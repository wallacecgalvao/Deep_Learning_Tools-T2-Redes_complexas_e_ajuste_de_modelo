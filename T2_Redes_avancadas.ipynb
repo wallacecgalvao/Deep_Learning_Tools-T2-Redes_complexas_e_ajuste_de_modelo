{
 "cells": [
  {
   "cell_type": "markdown",
   "metadata": {
    "id": "Q5SrNezuuFsR"
   },
   "source": [
    "# Trabalho #2 - Rede residual e ajuste de modelo\n",
    "\n",
    "Nesse trabalho você vai criar uma rede residual para realizar uma tarefa de classificação de múltiplas classes.\n",
    "\n",
    "A tarefa consiste em classificar objetos do conjunto de dados CIFAR100\n",
    "\n",
    "Esse trabalho é dividido nas seguintes etapas:\n",
    "\n",
    "1. Explorar as imagens do conjunto de dados;\n",
    "2. Construir e treinar uma rede residual para identificar o objeto mostrado na imagem;\n",
    "3. Avaliar o desempenho da rede;\n",
    "4. Ajustar o modelo para melhorar o desempenho."
   ]
  },
  {
   "cell_type": "markdown",
   "metadata": {
    "id": "cY1uHu1Jum1w"
   },
   "source": [
    "### Importação das principais bibliotecas"
   ]
  },
  {
   "cell_type": "code",
   "execution_count": 1,
   "metadata": {},
   "outputs": [
    {
     "name": "stdout",
     "output_type": "stream",
     "text": [
      "Requirement already satisfied: tensorflow==2.17.1 in /usr/local/python/3.12.1/lib/python3.12/site-packages (2.17.1)\n",
      "Requirement already satisfied: absl-py>=1.0.0 in /usr/local/python/3.12.1/lib/python3.12/site-packages (from tensorflow==2.17.1) (2.1.0)\n",
      "Requirement already satisfied: astunparse>=1.6.0 in /usr/local/python/3.12.1/lib/python3.12/site-packages (from tensorflow==2.17.1) (1.6.3)\n",
      "Requirement already satisfied: flatbuffers>=24.3.25 in /usr/local/python/3.12.1/lib/python3.12/site-packages (from tensorflow==2.17.1) (24.3.25)\n",
      "Requirement already satisfied: gast!=0.5.0,!=0.5.1,!=0.5.2,>=0.2.1 in /usr/local/python/3.12.1/lib/python3.12/site-packages (from tensorflow==2.17.1) (0.6.0)\n",
      "Requirement already satisfied: google-pasta>=0.1.1 in /usr/local/python/3.12.1/lib/python3.12/site-packages (from tensorflow==2.17.1) (0.2.0)\n",
      "Requirement already satisfied: h5py>=3.10.0 in /usr/local/python/3.12.1/lib/python3.12/site-packages (from tensorflow==2.17.1) (3.12.1)\n",
      "Requirement already satisfied: libclang>=13.0.0 in /usr/local/python/3.12.1/lib/python3.12/site-packages (from tensorflow==2.17.1) (18.1.1)\n",
      "Requirement already satisfied: ml-dtypes<0.5.0,>=0.3.1 in /usr/local/python/3.12.1/lib/python3.12/site-packages (from tensorflow==2.17.1) (0.4.1)\n",
      "Requirement already satisfied: opt-einsum>=2.3.2 in /usr/local/python/3.12.1/lib/python3.12/site-packages (from tensorflow==2.17.1) (3.4.0)\n",
      "Requirement already satisfied: packaging in /home/codespace/.local/lib/python3.12/site-packages (from tensorflow==2.17.1) (24.1)\n",
      "Requirement already satisfied: protobuf!=4.21.0,!=4.21.1,!=4.21.2,!=4.21.3,!=4.21.4,!=4.21.5,<5.0.0dev,>=3.20.3 in /usr/local/python/3.12.1/lib/python3.12/site-packages (from tensorflow==2.17.1) (4.25.5)\n",
      "Requirement already satisfied: requests<3,>=2.21.0 in /home/codespace/.local/lib/python3.12/site-packages (from tensorflow==2.17.1) (2.32.3)\n",
      "Requirement already satisfied: setuptools in /home/codespace/.local/lib/python3.12/site-packages (from tensorflow==2.17.1) (75.1.0)\n",
      "Requirement already satisfied: six>=1.12.0 in /home/codespace/.local/lib/python3.12/site-packages (from tensorflow==2.17.1) (1.16.0)\n",
      "Requirement already satisfied: termcolor>=1.1.0 in /usr/local/python/3.12.1/lib/python3.12/site-packages (from tensorflow==2.17.1) (2.5.0)\n",
      "Requirement already satisfied: typing-extensions>=3.6.6 in /home/codespace/.local/lib/python3.12/site-packages (from tensorflow==2.17.1) (4.9.0)\n",
      "Requirement already satisfied: wrapt>=1.11.0 in /usr/local/python/3.12.1/lib/python3.12/site-packages (from tensorflow==2.17.1) (1.16.0)\n",
      "Requirement already satisfied: grpcio<2.0,>=1.24.3 in /usr/local/python/3.12.1/lib/python3.12/site-packages (from tensorflow==2.17.1) (1.68.0)\n",
      "Requirement already satisfied: tensorboard<2.18,>=2.17 in /usr/local/python/3.12.1/lib/python3.12/site-packages (from tensorflow==2.17.1) (2.17.1)\n",
      "Requirement already satisfied: keras>=3.2.0 in /usr/local/python/3.12.1/lib/python3.12/site-packages (from tensorflow==2.17.1) (3.6.0)\n",
      "Requirement already satisfied: numpy<2.0.0,>=1.26.0 in /usr/local/python/3.12.1/lib/python3.12/site-packages (from tensorflow==2.17.1) (1.26.4)\n",
      "Requirement already satisfied: wheel<1.0,>=0.23.0 in /usr/local/python/3.12.1/lib/python3.12/site-packages (from astunparse>=1.6.0->tensorflow==2.17.1) (0.45.0)\n",
      "Requirement already satisfied: rich in /usr/local/python/3.12.1/lib/python3.12/site-packages (from keras>=3.2.0->tensorflow==2.17.1) (13.9.4)\n",
      "Requirement already satisfied: namex in /usr/local/python/3.12.1/lib/python3.12/site-packages (from keras>=3.2.0->tensorflow==2.17.1) (0.0.8)\n",
      "Requirement already satisfied: optree in /usr/local/python/3.12.1/lib/python3.12/site-packages (from keras>=3.2.0->tensorflow==2.17.1) (0.13.1)\n",
      "Requirement already satisfied: charset-normalizer<4,>=2 in /home/codespace/.local/lib/python3.12/site-packages (from requests<3,>=2.21.0->tensorflow==2.17.1) (3.3.2)\n",
      "Requirement already satisfied: idna<4,>=2.5 in /home/codespace/.local/lib/python3.12/site-packages (from requests<3,>=2.21.0->tensorflow==2.17.1) (3.10)\n",
      "Requirement already satisfied: urllib3<3,>=1.21.1 in /home/codespace/.local/lib/python3.12/site-packages (from requests<3,>=2.21.0->tensorflow==2.17.1) (2.2.3)\n",
      "Requirement already satisfied: certifi>=2017.4.17 in /home/codespace/.local/lib/python3.12/site-packages (from requests<3,>=2.21.0->tensorflow==2.17.1) (2024.8.30)\n",
      "Requirement already satisfied: markdown>=2.6.8 in /usr/local/python/3.12.1/lib/python3.12/site-packages (from tensorboard<2.18,>=2.17->tensorflow==2.17.1) (3.7)\n",
      "Requirement already satisfied: tensorboard-data-server<0.8.0,>=0.7.0 in /usr/local/python/3.12.1/lib/python3.12/site-packages (from tensorboard<2.18,>=2.17->tensorflow==2.17.1) (0.7.2)\n",
      "Requirement already satisfied: werkzeug>=1.0.1 in /usr/local/python/3.12.1/lib/python3.12/site-packages (from tensorboard<2.18,>=2.17->tensorflow==2.17.1) (3.1.3)\n",
      "Requirement already satisfied: MarkupSafe>=2.1.1 in /home/codespace/.local/lib/python3.12/site-packages (from werkzeug>=1.0.1->tensorboard<2.18,>=2.17->tensorflow==2.17.1) (2.1.5)\n",
      "Requirement already satisfied: markdown-it-py>=2.2.0 in /usr/local/python/3.12.1/lib/python3.12/site-packages (from rich->keras>=3.2.0->tensorflow==2.17.1) (3.0.0)\n",
      "Requirement already satisfied: pygments<3.0.0,>=2.13.0 in /home/codespace/.local/lib/python3.12/site-packages (from rich->keras>=3.2.0->tensorflow==2.17.1) (2.18.0)\n",
      "Requirement already satisfied: mdurl~=0.1 in /usr/local/python/3.12.1/lib/python3.12/site-packages (from markdown-it-py>=2.2.0->rich->keras>=3.2.0->tensorflow==2.17.1) (0.1.2)\n",
      "\n",
      "\u001b[1m[\u001b[0m\u001b[34;49mnotice\u001b[0m\u001b[1;39;49m]\u001b[0m\u001b[39;49m A new release of pip is available: \u001b[0m\u001b[31;49m24.2\u001b[0m\u001b[39;49m -> \u001b[0m\u001b[32;49m24.3.1\u001b[0m\n",
      "\u001b[1m[\u001b[0m\u001b[34;49mnotice\u001b[0m\u001b[1;39;49m]\u001b[0m\u001b[39;49m To update, run: \u001b[0m\u001b[32;49mpython3 -m pip install --upgrade pip\u001b[0m\n"
     ]
    },
    {
     "name": "stderr",
     "output_type": "stream",
     "text": [
      "2024-11-22 22:29:47.879601: I external/local_xla/xla/tsl/cuda/cudart_stub.cc:32] Could not find cuda drivers on your machine, GPU will not be used.\n",
      "2024-11-22 22:29:47.883617: I external/local_xla/xla/tsl/cuda/cudart_stub.cc:32] Could not find cuda drivers on your machine, GPU will not be used.\n",
      "2024-11-22 22:29:47.892703: E external/local_xla/xla/stream_executor/cuda/cuda_fft.cc:485] Unable to register cuFFT factory: Attempting to register factory for plugin cuFFT when one has already been registered\n",
      "2024-11-22 22:29:47.907288: E external/local_xla/xla/stream_executor/cuda/cuda_dnn.cc:8454] Unable to register cuDNN factory: Attempting to register factory for plugin cuDNN when one has already been registered\n",
      "2024-11-22 22:29:47.911492: E external/local_xla/xla/stream_executor/cuda/cuda_blas.cc:1452] Unable to register cuBLAS factory: Attempting to register factory for plugin cuBLAS when one has already been registered\n",
      "2024-11-22 22:29:47.923197: I tensorflow/core/platform/cpu_feature_guard.cc:210] This TensorFlow binary is optimized to use available CPU instructions in performance-critical operations.\n",
      "To enable the following instructions: AVX2 FMA, in other operations, rebuild TensorFlow with the appropriate compiler flags.\n",
      "2024-11-22 22:29:48.816923: W tensorflow/compiler/tf2tensorrt/utils/py_utils.cc:38] TF-TRT Warning: Could not find TensorRT\n"
     ]
    },
    {
     "name": "stdout",
     "output_type": "stream",
     "text": [
      "Versão do TensorFlow: 2.17.1\n"
     ]
    }
   ],
   "source": [
    "# Instalar a versão 2.17.1 do TensorFlow\n",
    "!pip install tensorflow==2.17.1\n",
    "\n",
    "# Verificar a versão instalada\n",
    "import tensorflow as tf\n",
    "print(\"Versão do TensorFlow:\", tf.__version__)\n"
   ]
  },
  {
   "cell_type": "code",
   "execution_count": 2,
   "metadata": {
    "id": "PhofTSFmuqGo"
   },
   "outputs": [],
   "source": [
    "#import tensorflow as tf\n",
    "import numpy as np\n",
    "import matplotlib.pyplot as plt\n",
    "#tf.__version__"
   ]
  },
  {
   "cell_type": "markdown",
   "metadata": {
    "id": "REXjIypxuyMX"
   },
   "source": [
    "## 1. Conjunto de dados\n",
    "\n",
    "O conjunto de dados CIFAR10 é composto por imagens coloridas de dimensão (32, 32, 3).\n",
    "\n",
    "Esse conjunto de imagens é dedicado à classificçaõ multiclasse com 10 tipos de objetos.\n",
    "\n",
    "Execute a célula abaixo para carregar o conjunto de dados CIFAR-10, que já está disponível diretamente no Keras."
   ]
  },
  {
   "cell_type": "code",
   "execution_count": 3,
   "metadata": {
    "id": "F0j63zOovEJB"
   },
   "outputs": [],
   "source": [
    "# Importar conjunto de dados\n",
    "from tensorflow.keras.datasets import cifar10\n",
    "\n",
    "# Carregar o conjunto de dados CIFAR-10\n",
    "(x_train, y_train), (x_test, y_test) = cifar10.load_data()"
   ]
  },
  {
   "cell_type": "markdown",
   "metadata": {
    "id": "rQqJNkkl5Avs"
   },
   "source": [
    "Execute a célula abaixo para visualizar algumas imagens."
   ]
  },
  {
   "cell_type": "code",
   "execution_count": 4,
   "metadata": {
    "id": "vKSrutaA7MxU"
   },
   "outputs": [
    {
     "data": {
      "image/png": "[encoded data removed]",
      "text/plain": [
       "<Figure size 1600x400 with 16 Axes>"
      ]
     },
     "metadata": {},
     "output_type": "display_data"
    }
   ],
   "source": [
    "fig, axs = plt.subplots(2, 8, figsize=(16, 4))\n",
    "index = 0\n",
    "for i in range(2):\n",
    "    for j in range(8):\n",
    "        axs[i,j].imshow(x_train[index])\n",
    "        index += 1\n",
    "plt.show()"
   ]
  },
  {
   "cell_type": "markdown",
   "metadata": {
    "id": "1gpUP84rvfYI"
   },
   "source": [
    "### Exercício #1: Pré-processamento dos dados\n",
    "\n",
    "Na célula abaixo crie um código para realizar o seguinte:\n",
    "\n",
    "1. Normalizar as imagens de forma que os seus pixels sejam valores reais entre 0 e 1;\n",
    "\n",
    "2. Codificação one-hot das saídas."
   ]
  },
  {
   "cell_type": "code",
   "execution_count": 5,
   "metadata": {
    "id": "R_Ig9ZU-vvLP"
   },
   "outputs": [
    {
     "name": "stdout",
     "output_type": "stream",
     "text": [
      "Dimensão do conjunto de treinamento: (50000, 32, 32, 3)\n",
      "Dimensão do conjunto de teste: (10000, 32, 32, 3)\n",
      "Dimensão das saídas de treinamento: (50000, 10)\n",
      "Dimensão das saídas de teste: (10000, 10)\n",
      "Valores máximos e mínimos das imagens de treinamento: 1.0 , 0.0\n",
      "Valores máximos e mínimos das imagens de teste: 1.0 , 0.0\n"
     ]
    }
   ],
   "source": [
    "# PASRA VOCÊ FAZER: Normalização das imagens e codificação one-hot das saídas\n",
    "# Importa função to_categorical\n",
    "from tensorflow.keras.utils import to_categorical\n",
    "\n",
    "# Normalização das imagens\n",
    "### COMECE AQUI #### (~2 linhas)\n",
    "x_train_norm = x_train.astype('float32') / 255.0\n",
    "x_test_norm = x_test.astype('float32') / 255.0\n",
    "### TERMINE AQUI ###\n",
    "\n",
    "# Converter as classes para one-hot encoding\n",
    "### COMECE AQUI #### (~2 linhas)\n",
    "y_train_hot = to_categorical(y_train, num_classes=10)\n",
    "y_test_hot = to_categorical(y_test, num_classes=10)\n",
    "### TERMINE AQUI ###\n",
    "\n",
    "print(f\"Dimensão do conjunto de treinamento: {x_train_norm.shape}\")\n",
    "print(f\"Dimensão do conjunto de teste: {x_test_norm.shape}\")\n",
    "print(f\"Dimensão das saídas de treinamento: {y_train_hot.shape}\")\n",
    "print(f\"Dimensão das saídas de teste: {y_test_hot.shape}\")\n",
    "print('Valores máximos e mínimos das imagens de treinamento:', np.max(x_train_norm), ',', np.min(x_train_norm))\n",
    "print('Valores máximos e mínimos das imagens de teste:', np.max(x_test_norm), ',',  np.min(x_test_norm))"
   ]
  },
  {
   "cell_type": "markdown",
   "metadata": {
    "id": "zmBNnKnIxUHQ"
   },
   "source": [
    "**Saída esperada:**\n",
    "\n",
    "    Dimensão do conjunto de treinamento: (50000, 32, 32, 3)\n",
    "    Dimensão do conjunto de teste: (10000, 32, 32, 3)\n",
    "    Dimensão das saídas de treinamento: (50000, 10)\n",
    "    Dimensão das saídas de teste: (10000, 10)\n",
    "    Valores máximos e mínimos das imagens: 1.0 0.0"
   ]
  },
  {
   "cell_type": "markdown",
   "metadata": {
    "id": "hs20TDp3xfJB"
   },
   "source": [
    "## 2. Configuração do modelo\n",
    "\n",
    "Nesse trabalho você vai criar uma rede residual com camadas densas.\n",
    "\n",
    "Uma rede residual é composta por blocos residuais. Na Figura 1, é mostrado um bloco residual.\n",
    "\n",
    "ASa equações que impelementam esse bloco são as seguintes:\n",
    "\n",
    "$$a^{[l+1]} = dense(a^{[l]})$$\n",
    "$$z^{[l+2]} = dense(a^{[l]})$$\n",
    "$$a^{[l+2]} = g^{[l+2]}(z^{[l+2]} + a^{[l]}))$$\n",
    "\n",
    "onde $dense$ é uma camada densa. Observe que a função de ativação da segunda camada densa do bloco somente é aplicada após a soma das ativações $a^{[l]}$ e dos estados $z^{[l+2]}$.\n",
    "\n",
    "A camada `layers.Add()` do Keras realiza a soma de dois tensores."
   ]
  },
  {
   "cell_type": "markdown",
   "metadata": {
    "id": "R6uedKACx9tY"
   },
   "source": [
    "![Bloco_residual1.png](data:image/png;base64,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)\n",
    "\n",
    "Figura 1 - Esquema de um bloco residual."
   ]
  },
  {
   "cell_type": "markdown",
   "metadata": {
    "id": "-A2od0ULx93P"
   },
   "source": [
    "### Exercício #2: Codificação do bloco residual\n",
    "\n",
    "Na célula abaixo crie uma função que implementa o bloco residual mostrado na Figura 1. Use a função de ativação relu."
   ]
  },
  {
   "cell_type": "code",
   "execution_count": 6,
   "metadata": {
    "id": "sFlcyq2L_YLW"
   },
   "outputs": [],
   "source": [
    "### PARA VOCÊ FAZER: Definir o bloco residual\n",
    "# Importa classe de camadas e modelos\n",
    "from tensorflow.keras import layers, models\n",
    "\n",
    "# Importa função de ativação\n",
    "from tensorflow.keras.activations import relu\n",
    "\n",
    "def residual_block(x, units):\n",
    "    # Primeira camada densa\n",
    "    ### COMECE AQUI ### (1 linha)\n",
    "    z1 = layers.Dense(units, activation=relu)(x)\n",
    "    ### TERMINE AQUI ###\n",
    "\n",
    "    # Segunda camada densa sem ativação\n",
    "    ### COMECE AQUI ### (1 linha)\n",
    "    z2 = layers.Dense(units, activation=None)(z1)\n",
    "    ### TERMINE AQUI ###\n",
    "\n",
    "    # Soma entrada com z2 com saída da segunda camada\n",
    "    ### COMECE AQUI ### (1 linha)\n",
    "    added = layers.Add()([x, z2])\n",
    "    ### TERMINE AQUI ###\n",
    "\n",
    "    # Aplica função de ativação\n",
    "    ### COMECE AQUI ### (1 linha)\n",
    "    a2 = relu(added)\n",
    "    ### TERMINE AQUI ###\n",
    "\n",
    "    return a2"
   ]
  },
  {
   "cell_type": "markdown",
   "metadata": {
    "id": "QYHaDrRC_rvd"
   },
   "source": [
    "Execute a célula abaixo para testar o seu bloco residual."
   ]
  },
  {
   "cell_type": "code",
   "execution_count": 8,
   "metadata": {
    "id": "rocgvnKm_qo-"
   },
   "outputs": [
    {
     "name": "stdout",
     "output_type": "stream",
     "text": [
      "x: [[ 1.78862847  0.43650985  0.09649747 -1.8634927  -0.2773882 ]\n",
      " [-0.35475898 -0.08274148 -0.62700068 -0.04381817 -0.47721803]\n",
      " [-1.31386475  0.88462238  0.88131804  1.70957306  0.05003364]] \n",
      "\n",
      "a2: tf.Tensor(\n",
      "[[1.9395989  0.07705411 0.5989     0.         0.        ]\n",
      " [0.         0.         0.         0.         0.        ]\n",
      " [0.         0.         0.30422783 0.6572945  0.        ]], shape=(3, 5), dtype=float32)\n"
     ]
    }
   ],
   "source": [
    "np.random.seed(3)\n",
    "x = np.random.randn(3,5)\n",
    "a2 = residual_block(x, 5)\n",
    "print('x:', x, '\\n')\n",
    "print('a2:', a2)"
   ]
  },
  {
   "cell_type": "markdown",
   "metadata": {
    "id": "p6OE5LqCIuoK"
   },
   "source": [
    "**Saída esperada:**\n",
    "\n",
    "    x: [[ 1.78862847  0.43650985  0.09649747 -1.8634927  -0.2773882 ]\n",
    "    [-0.35475898 -0.08274148 -0.62700068 -0.04381817 -0.47721803]\n",
    "    [-1.31386475  0.88462238  0.88131804  1.70957306  0.05003364]]\n",
    "\n",
    "    a2: tf.Tensor(\n",
    "    [[1.6887243  0.5611134  0.5987834  0.         0.67116445]\n",
    "    [0.         0.03314844 0.         0.1769045  0.        ]\n",
    "    [0.3389045  0.16169035 0.         0.7670167  0.        ]], shape=(3, 5), dtype=float32)"
   ]
  },
  {
   "cell_type": "markdown",
   "metadata": {
    "id": "DWZBD66GANCN"
   },
   "source": [
    "### Exercício #3: Configuração da rede\n",
    "\n",
    "A rede que será utilizada será composta por 2 blocos residuais, sendo que entre eles deve ter um camada densa para ajustar a dimensão dos dados.\n",
    "\n",
    "Na célula abaixo crie uma função para gerar a rede residual. Essa função deve receber o seguinte:\n",
    "\n",
    "1. Dimensão das imagens de entrada;\n",
    "2. lista com número de unidades em cada bloco e cada camada da rede;\n",
    "3. Número de classes para definir o número de unidades da camada de saída;\n",
    "4. Exceto na camada de saída utiliza função de ativação relu;\n",
    "5. Inclua camadas de dropout após cada camada densa e após cada bloco residual."
   ]
  },
  {
   "cell_type": "code",
   "execution_count": 9,
   "metadata": {
    "id": "-pJNUbfpBdvK"
   },
   "outputs": [],
   "source": [
    "### PARA VOCÊ FAZER: Definir a arquitetura do modelo\n",
    "\n",
    "def create_residual_model(n1, n2, num_classes, input_shape=(32, 32, 3)):\n",
    "    ### COMECE AQUI ###\n",
    "    # Camada de entrada\n",
    "    inputs = layers.Input(shape=input_shape)\n",
    "    \n",
    "    # Camada para esticar a imagem (flattening)\n",
    "    x = layers.Flatten()(inputs)\n",
    "    \n",
    "    # Primeira camada densa com dropout\n",
    "    x = layers.Dense(n1, activation='relu')(x)\n",
    "    x = layers.Dropout(0.3)(x)  # Dropout para regularização\n",
    "    \n",
    "    # Primeiro bloco residual\n",
    "    x = residual_block(x, n1)\n",
    "    x = layers.Dropout(0.3)(x)  # Dropout após o bloco residual\n",
    "    \n",
    "    # Camada densa intermediária para ajustar a dimensão\n",
    "    x = layers.Dense(n2, activation='relu')(x)\n",
    "    x = layers.Dropout(0.3)(x)  # Dropout após a camada intermediária\n",
    "    \n",
    "    # Segundo bloco residual\n",
    "    x = residual_block(x, n2)\n",
    "    x = layers.Dropout(0.3)(x)  # Dropout após o bloco residual\n",
    "    \n",
    "    # Camada de saída (número de classes)\n",
    "    outputs = layers.Dense(num_classes, activation='softmax')(x)\n",
    "    \n",
    "    # Construir o modelo\n",
    "    model = models.Model(inputs=inputs, outputs=outputs)\n",
    "    ### TERMINE AQUI ###\n",
    "\n",
    "    return model\n"
   ]
  },
  {
   "cell_type": "markdown",
   "metadata": {
    "id": "9cwA7uUGCaQx"
   },
   "source": [
    "Para criar o modelo, utilize a função `create_residual_model()` com os seguintes parâmetros:\n",
    "\n",
    "- n1 = 256;\n",
    "- n2 = 128;\n",
    "- num_classes = 10.\n"
   ]
  },
  {
   "cell_type": "code",
   "execution_count": 10,
   "metadata": {
    "id": "e_rWAIC_CadJ"
   },
   "outputs": [
    {
     "data": {
      "text/html": [
       "<pre style=\"white-space:pre;overflow-x:auto;line-height:normal;font-family:Menlo,'DejaVu Sans Mono',consolas,'Courier New',monospace\"><span style=\"font-weight: bold\">Model: \"functional\"</span>\n",
       "</pre>\n"
      ],
      "text/plain": [
       "\u001b[1mModel: \"functional\"\u001b[0m\n"
      ]
     },
     "metadata": {},
     "output_type": "display_data"
    },
    {
     "data": {
      "text/html": [
       "<pre style=\"white-space:pre;overflow-x:auto;line-height:normal;font-family:Menlo,'DejaVu Sans Mono',consolas,'Courier New',monospace\">┏━━━━━━━━━━━━━━━━━━━━━┳━━━━━━━━━━━━━━━━━━━┳━━━━━━━━━━━━┳━━━━━━━━━━━━━━━━━━━┓\n",
       "┃<span style=\"font-weight: bold\"> Layer (type)        </span>┃<span style=\"font-weight: bold\"> Output Shape      </span>┃<span style=\"font-weight: bold\">    Param # </span>┃<span style=\"font-weight: bold\"> Connected to      </span>┃\n",
       "┡━━━━━━━━━━━━━━━━━━━━━╇━━━━━━━━━━━━━━━━━━━╇━━━━━━━━━━━━╇━━━━━━━━━━━━━━━━━━━┩\n",
       "│ input_layer         │ (<span style=\"color: #00d7ff; text-decoration-color: #00d7ff\">None</span>, <span style=\"color: #00af00; text-decoration-color: #00af00\">32</span>, <span style=\"color: #00af00; text-decoration-color: #00af00\">32</span>, <span style=\"color: #00af00; text-decoration-color: #00af00\">3</span>) │          <span style=\"color: #00af00; text-decoration-color: #00af00\">0</span> │ -                 │\n",
       "│ (<span style=\"color: #0087ff; text-decoration-color: #0087ff\">InputLayer</span>)        │                   │            │                   │\n",
       "├─────────────────────┼───────────────────┼────────────┼───────────────────┤\n",
       "│ flatten (<span style=\"color: #0087ff; text-decoration-color: #0087ff\">Flatten</span>)   │ (<span style=\"color: #00d7ff; text-decoration-color: #00d7ff\">None</span>, <span style=\"color: #00af00; text-decoration-color: #00af00\">3072</span>)      │          <span style=\"color: #00af00; text-decoration-color: #00af00\">0</span> │ input_layer[<span style=\"color: #00af00; text-decoration-color: #00af00\">0</span>][<span style=\"color: #00af00; text-decoration-color: #00af00\">0</span>] │\n",
       "├─────────────────────┼───────────────────┼────────────┼───────────────────┤\n",
       "│ dense_4 (<span style=\"color: #0087ff; text-decoration-color: #0087ff\">Dense</span>)     │ (<span style=\"color: #00d7ff; text-decoration-color: #00d7ff\">None</span>, <span style=\"color: #00af00; text-decoration-color: #00af00\">256</span>)       │    <span style=\"color: #00af00; text-decoration-color: #00af00\">786,688</span> │ flatten[<span style=\"color: #00af00; text-decoration-color: #00af00\">0</span>][<span style=\"color: #00af00; text-decoration-color: #00af00\">0</span>]     │\n",
       "├─────────────────────┼───────────────────┼────────────┼───────────────────┤\n",
       "│ dropout (<span style=\"color: #0087ff; text-decoration-color: #0087ff\">Dropout</span>)   │ (<span style=\"color: #00d7ff; text-decoration-color: #00d7ff\">None</span>, <span style=\"color: #00af00; text-decoration-color: #00af00\">256</span>)       │          <span style=\"color: #00af00; text-decoration-color: #00af00\">0</span> │ dense_4[<span style=\"color: #00af00; text-decoration-color: #00af00\">0</span>][<span style=\"color: #00af00; text-decoration-color: #00af00\">0</span>]     │\n",
       "├─────────────────────┼───────────────────┼────────────┼───────────────────┤\n",
       "│ dense_5 (<span style=\"color: #0087ff; text-decoration-color: #0087ff\">Dense</span>)     │ (<span style=\"color: #00d7ff; text-decoration-color: #00d7ff\">None</span>, <span style=\"color: #00af00; text-decoration-color: #00af00\">256</span>)       │     <span style=\"color: #00af00; text-decoration-color: #00af00\">65,792</span> │ dropout[<span style=\"color: #00af00; text-decoration-color: #00af00\">0</span>][<span style=\"color: #00af00; text-decoration-color: #00af00\">0</span>]     │\n",
       "├─────────────────────┼───────────────────┼────────────┼───────────────────┤\n",
       "│ dense_6 (<span style=\"color: #0087ff; text-decoration-color: #0087ff\">Dense</span>)     │ (<span style=\"color: #00d7ff; text-decoration-color: #00d7ff\">None</span>, <span style=\"color: #00af00; text-decoration-color: #00af00\">256</span>)       │     <span style=\"color: #00af00; text-decoration-color: #00af00\">65,792</span> │ dense_5[<span style=\"color: #00af00; text-decoration-color: #00af00\">0</span>][<span style=\"color: #00af00; text-decoration-color: #00af00\">0</span>]     │\n",
       "├─────────────────────┼───────────────────┼────────────┼───────────────────┤\n",
       "│ add_2 (<span style=\"color: #0087ff; text-decoration-color: #0087ff\">Add</span>)         │ (<span style=\"color: #00d7ff; text-decoration-color: #00d7ff\">None</span>, <span style=\"color: #00af00; text-decoration-color: #00af00\">256</span>)       │          <span style=\"color: #00af00; text-decoration-color: #00af00\">0</span> │ dropout[<span style=\"color: #00af00; text-decoration-color: #00af00\">0</span>][<span style=\"color: #00af00; text-decoration-color: #00af00\">0</span>],    │\n",
       "│                     │                   │            │ dense_6[<span style=\"color: #00af00; text-decoration-color: #00af00\">0</span>][<span style=\"color: #00af00; text-decoration-color: #00af00\">0</span>]     │\n",
       "├─────────────────────┼───────────────────┼────────────┼───────────────────┤\n",
       "│ re_lu (<span style=\"color: #0087ff; text-decoration-color: #0087ff\">ReLU</span>)        │ (<span style=\"color: #00d7ff; text-decoration-color: #00d7ff\">None</span>, <span style=\"color: #00af00; text-decoration-color: #00af00\">256</span>)       │          <span style=\"color: #00af00; text-decoration-color: #00af00\">0</span> │ add_2[<span style=\"color: #00af00; text-decoration-color: #00af00\">0</span>][<span style=\"color: #00af00; text-decoration-color: #00af00\">0</span>]       │\n",
       "├─────────────────────┼───────────────────┼────────────┼───────────────────┤\n",
       "│ dropout_1 (<span style=\"color: #0087ff; text-decoration-color: #0087ff\">Dropout</span>) │ (<span style=\"color: #00d7ff; text-decoration-color: #00d7ff\">None</span>, <span style=\"color: #00af00; text-decoration-color: #00af00\">256</span>)       │          <span style=\"color: #00af00; text-decoration-color: #00af00\">0</span> │ re_lu[<span style=\"color: #00af00; text-decoration-color: #00af00\">0</span>][<span style=\"color: #00af00; text-decoration-color: #00af00\">0</span>]       │\n",
       "├─────────────────────┼───────────────────┼────────────┼───────────────────┤\n",
       "│ dense_7 (<span style=\"color: #0087ff; text-decoration-color: #0087ff\">Dense</span>)     │ (<span style=\"color: #00d7ff; text-decoration-color: #00d7ff\">None</span>, <span style=\"color: #00af00; text-decoration-color: #00af00\">128</span>)       │     <span style=\"color: #00af00; text-decoration-color: #00af00\">32,896</span> │ dropout_1[<span style=\"color: #00af00; text-decoration-color: #00af00\">0</span>][<span style=\"color: #00af00; text-decoration-color: #00af00\">0</span>]   │\n",
       "├─────────────────────┼───────────────────┼────────────┼───────────────────┤\n",
       "│ dropout_2 (<span style=\"color: #0087ff; text-decoration-color: #0087ff\">Dropout</span>) │ (<span style=\"color: #00d7ff; text-decoration-color: #00d7ff\">None</span>, <span style=\"color: #00af00; text-decoration-color: #00af00\">128</span>)       │          <span style=\"color: #00af00; text-decoration-color: #00af00\">0</span> │ dense_7[<span style=\"color: #00af00; text-decoration-color: #00af00\">0</span>][<span style=\"color: #00af00; text-decoration-color: #00af00\">0</span>]     │\n",
       "├─────────────────────┼───────────────────┼────────────┼───────────────────┤\n",
       "│ dense_8 (<span style=\"color: #0087ff; text-decoration-color: #0087ff\">Dense</span>)     │ (<span style=\"color: #00d7ff; text-decoration-color: #00d7ff\">None</span>, <span style=\"color: #00af00; text-decoration-color: #00af00\">128</span>)       │     <span style=\"color: #00af00; text-decoration-color: #00af00\">16,512</span> │ dropout_2[<span style=\"color: #00af00; text-decoration-color: #00af00\">0</span>][<span style=\"color: #00af00; text-decoration-color: #00af00\">0</span>]   │\n",
       "├─────────────────────┼───────────────────┼────────────┼───────────────────┤\n",
       "│ dense_9 (<span style=\"color: #0087ff; text-decoration-color: #0087ff\">Dense</span>)     │ (<span style=\"color: #00d7ff; text-decoration-color: #00d7ff\">None</span>, <span style=\"color: #00af00; text-decoration-color: #00af00\">128</span>)       │     <span style=\"color: #00af00; text-decoration-color: #00af00\">16,512</span> │ dense_8[<span style=\"color: #00af00; text-decoration-color: #00af00\">0</span>][<span style=\"color: #00af00; text-decoration-color: #00af00\">0</span>]     │\n",
       "├─────────────────────┼───────────────────┼────────────┼───────────────────┤\n",
       "│ add_3 (<span style=\"color: #0087ff; text-decoration-color: #0087ff\">Add</span>)         │ (<span style=\"color: #00d7ff; text-decoration-color: #00d7ff\">None</span>, <span style=\"color: #00af00; text-decoration-color: #00af00\">128</span>)       │          <span style=\"color: #00af00; text-decoration-color: #00af00\">0</span> │ dropout_2[<span style=\"color: #00af00; text-decoration-color: #00af00\">0</span>][<span style=\"color: #00af00; text-decoration-color: #00af00\">0</span>],  │\n",
       "│                     │                   │            │ dense_9[<span style=\"color: #00af00; text-decoration-color: #00af00\">0</span>][<span style=\"color: #00af00; text-decoration-color: #00af00\">0</span>]     │\n",
       "├─────────────────────┼───────────────────┼────────────┼───────────────────┤\n",
       "│ re_lu_1 (<span style=\"color: #0087ff; text-decoration-color: #0087ff\">ReLU</span>)      │ (<span style=\"color: #00d7ff; text-decoration-color: #00d7ff\">None</span>, <span style=\"color: #00af00; text-decoration-color: #00af00\">128</span>)       │          <span style=\"color: #00af00; text-decoration-color: #00af00\">0</span> │ add_3[<span style=\"color: #00af00; text-decoration-color: #00af00\">0</span>][<span style=\"color: #00af00; text-decoration-color: #00af00\">0</span>]       │\n",
       "├─────────────────────┼───────────────────┼────────────┼───────────────────┤\n",
       "│ dropout_3 (<span style=\"color: #0087ff; text-decoration-color: #0087ff\">Dropout</span>) │ (<span style=\"color: #00d7ff; text-decoration-color: #00d7ff\">None</span>, <span style=\"color: #00af00; text-decoration-color: #00af00\">128</span>)       │          <span style=\"color: #00af00; text-decoration-color: #00af00\">0</span> │ re_lu_1[<span style=\"color: #00af00; text-decoration-color: #00af00\">0</span>][<span style=\"color: #00af00; text-decoration-color: #00af00\">0</span>]     │\n",
       "├─────────────────────┼───────────────────┼────────────┼───────────────────┤\n",
       "│ dense_10 (<span style=\"color: #0087ff; text-decoration-color: #0087ff\">Dense</span>)    │ (<span style=\"color: #00d7ff; text-decoration-color: #00d7ff\">None</span>, <span style=\"color: #00af00; text-decoration-color: #00af00\">10</span>)        │      <span style=\"color: #00af00; text-decoration-color: #00af00\">1,290</span> │ dropout_3[<span style=\"color: #00af00; text-decoration-color: #00af00\">0</span>][<span style=\"color: #00af00; text-decoration-color: #00af00\">0</span>]   │\n",
       "└─────────────────────┴───────────────────┴────────────┴───────────────────┘\n",
       "</pre>\n"
      ],
      "text/plain": [
       "┏━━━━━━━━━━━━━━━━━━━━━┳━━━━━━━━━━━━━━━━━━━┳━━━━━━━━━━━━┳━━━━━━━━━━━━━━━━━━━┓\n",
       "┃\u001b[1m \u001b[0m\u001b[1mLayer (type)       \u001b[0m\u001b[1m \u001b[0m┃\u001b[1m \u001b[0m\u001b[1mOutput Shape     \u001b[0m\u001b[1m \u001b[0m┃\u001b[1m \u001b[0m\u001b[1m   Param #\u001b[0m\u001b[1m \u001b[0m┃\u001b[1m \u001b[0m\u001b[1mConnected to     \u001b[0m\u001b[1m \u001b[0m┃\n",
       "┡━━━━━━━━━━━━━━━━━━━━━╇━━━━━━━━━━━━━━━━━━━╇━━━━━━━━━━━━╇━━━━━━━━━━━━━━━━━━━┩\n",
       "│ input_layer         │ (\u001b[38;5;45mNone\u001b[0m, \u001b[38;5;34m32\u001b[0m, \u001b[38;5;34m32\u001b[0m, \u001b[38;5;34m3\u001b[0m) │          \u001b[38;5;34m0\u001b[0m │ -                 │\n",
       "│ (\u001b[38;5;33mInputLayer\u001b[0m)        │                   │            │                   │\n",
       "├─────────────────────┼───────────────────┼────────────┼───────────────────┤\n",
       "│ flatten (\u001b[38;5;33mFlatten\u001b[0m)   │ (\u001b[38;5;45mNone\u001b[0m, \u001b[38;5;34m3072\u001b[0m)      │          \u001b[38;5;34m0\u001b[0m │ input_layer[\u001b[38;5;34m0\u001b[0m][\u001b[38;5;34m0\u001b[0m] │\n",
       "├─────────────────────┼───────────────────┼────────────┼───────────────────┤\n",
       "│ dense_4 (\u001b[38;5;33mDense\u001b[0m)     │ (\u001b[38;5;45mNone\u001b[0m, \u001b[38;5;34m256\u001b[0m)       │    \u001b[38;5;34m786,688\u001b[0m │ flatten[\u001b[38;5;34m0\u001b[0m][\u001b[38;5;34m0\u001b[0m]     │\n",
       "├─────────────────────┼───────────────────┼────────────┼───────────────────┤\n",
       "│ dropout (\u001b[38;5;33mDropout\u001b[0m)   │ (\u001b[38;5;45mNone\u001b[0m, \u001b[38;5;34m256\u001b[0m)       │          \u001b[38;5;34m0\u001b[0m │ dense_4[\u001b[38;5;34m0\u001b[0m][\u001b[38;5;34m0\u001b[0m]     │\n",
       "├─────────────────────┼───────────────────┼────────────┼───────────────────┤\n",
       "│ dense_5 (\u001b[38;5;33mDense\u001b[0m)     │ (\u001b[38;5;45mNone\u001b[0m, \u001b[38;5;34m256\u001b[0m)       │     \u001b[38;5;34m65,792\u001b[0m │ dropout[\u001b[38;5;34m0\u001b[0m][\u001b[38;5;34m0\u001b[0m]     │\n",
       "├─────────────────────┼───────────────────┼────────────┼───────────────────┤\n",
       "│ dense_6 (\u001b[38;5;33mDense\u001b[0m)     │ (\u001b[38;5;45mNone\u001b[0m, \u001b[38;5;34m256\u001b[0m)       │     \u001b[38;5;34m65,792\u001b[0m │ dense_5[\u001b[38;5;34m0\u001b[0m][\u001b[38;5;34m0\u001b[0m]     │\n",
       "├─────────────────────┼───────────────────┼────────────┼───────────────────┤\n",
       "│ add_2 (\u001b[38;5;33mAdd\u001b[0m)         │ (\u001b[38;5;45mNone\u001b[0m, \u001b[38;5;34m256\u001b[0m)       │          \u001b[38;5;34m0\u001b[0m │ dropout[\u001b[38;5;34m0\u001b[0m][\u001b[38;5;34m0\u001b[0m],    │\n",
       "│                     │                   │            │ dense_6[\u001b[38;5;34m0\u001b[0m][\u001b[38;5;34m0\u001b[0m]     │\n",
       "├─────────────────────┼───────────────────┼────────────┼───────────────────┤\n",
       "│ re_lu (\u001b[38;5;33mReLU\u001b[0m)        │ (\u001b[38;5;45mNone\u001b[0m, \u001b[38;5;34m256\u001b[0m)       │          \u001b[38;5;34m0\u001b[0m │ add_2[\u001b[38;5;34m0\u001b[0m][\u001b[38;5;34m0\u001b[0m]       │\n",
       "├─────────────────────┼───────────────────┼────────────┼───────────────────┤\n",
       "│ dropout_1 (\u001b[38;5;33mDropout\u001b[0m) │ (\u001b[38;5;45mNone\u001b[0m, \u001b[38;5;34m256\u001b[0m)       │          \u001b[38;5;34m0\u001b[0m │ re_lu[\u001b[38;5;34m0\u001b[0m][\u001b[38;5;34m0\u001b[0m]       │\n",
       "├─────────────────────┼───────────────────┼────────────┼───────────────────┤\n",
       "│ dense_7 (\u001b[38;5;33mDense\u001b[0m)     │ (\u001b[38;5;45mNone\u001b[0m, \u001b[38;5;34m128\u001b[0m)       │     \u001b[38;5;34m32,896\u001b[0m │ dropout_1[\u001b[38;5;34m0\u001b[0m][\u001b[38;5;34m0\u001b[0m]   │\n",
       "├─────────────────────┼───────────────────┼────────────┼───────────────────┤\n",
       "│ dropout_2 (\u001b[38;5;33mDropout\u001b[0m) │ (\u001b[38;5;45mNone\u001b[0m, \u001b[38;5;34m128\u001b[0m)       │          \u001b[38;5;34m0\u001b[0m │ dense_7[\u001b[38;5;34m0\u001b[0m][\u001b[38;5;34m0\u001b[0m]     │\n",
       "├─────────────────────┼───────────────────┼────────────┼───────────────────┤\n",
       "│ dense_8 (\u001b[38;5;33mDense\u001b[0m)     │ (\u001b[38;5;45mNone\u001b[0m, \u001b[38;5;34m128\u001b[0m)       │     \u001b[38;5;34m16,512\u001b[0m │ dropout_2[\u001b[38;5;34m0\u001b[0m][\u001b[38;5;34m0\u001b[0m]   │\n",
       "├─────────────────────┼───────────────────┼────────────┼───────────────────┤\n",
       "│ dense_9 (\u001b[38;5;33mDense\u001b[0m)     │ (\u001b[38;5;45mNone\u001b[0m, \u001b[38;5;34m128\u001b[0m)       │     \u001b[38;5;34m16,512\u001b[0m │ dense_8[\u001b[38;5;34m0\u001b[0m][\u001b[38;5;34m0\u001b[0m]     │\n",
       "├─────────────────────┼───────────────────┼────────────┼───────────────────┤\n",
       "│ add_3 (\u001b[38;5;33mAdd\u001b[0m)         │ (\u001b[38;5;45mNone\u001b[0m, \u001b[38;5;34m128\u001b[0m)       │          \u001b[38;5;34m0\u001b[0m │ dropout_2[\u001b[38;5;34m0\u001b[0m][\u001b[38;5;34m0\u001b[0m],  │\n",
       "│                     │                   │            │ dense_9[\u001b[38;5;34m0\u001b[0m][\u001b[38;5;34m0\u001b[0m]     │\n",
       "├─────────────────────┼───────────────────┼────────────┼───────────────────┤\n",
       "│ re_lu_1 (\u001b[38;5;33mReLU\u001b[0m)      │ (\u001b[38;5;45mNone\u001b[0m, \u001b[38;5;34m128\u001b[0m)       │          \u001b[38;5;34m0\u001b[0m │ add_3[\u001b[38;5;34m0\u001b[0m][\u001b[38;5;34m0\u001b[0m]       │\n",
       "├─────────────────────┼───────────────────┼────────────┼───────────────────┤\n",
       "│ dropout_3 (\u001b[38;5;33mDropout\u001b[0m) │ (\u001b[38;5;45mNone\u001b[0m, \u001b[38;5;34m128\u001b[0m)       │          \u001b[38;5;34m0\u001b[0m │ re_lu_1[\u001b[38;5;34m0\u001b[0m][\u001b[38;5;34m0\u001b[0m]     │\n",
       "├─────────────────────┼───────────────────┼────────────┼───────────────────┤\n",
       "│ dense_10 (\u001b[38;5;33mDense\u001b[0m)    │ (\u001b[38;5;45mNone\u001b[0m, \u001b[38;5;34m10\u001b[0m)        │      \u001b[38;5;34m1,290\u001b[0m │ dropout_3[\u001b[38;5;34m0\u001b[0m][\u001b[38;5;34m0\u001b[0m]   │\n",
       "└─────────────────────┴───────────────────┴────────────┴───────────────────┘\n"
      ]
     },
     "metadata": {},
     "output_type": "display_data"
    },
    {
     "data": {
      "text/html": [
       "<pre style=\"white-space:pre;overflow-x:auto;line-height:normal;font-family:Menlo,'DejaVu Sans Mono',consolas,'Courier New',monospace\"><span style=\"font-weight: bold\"> Total params: </span><span style=\"color: #00af00; text-decoration-color: #00af00\">985,482</span> (3.76 MB)\n",
       "</pre>\n"
      ],
      "text/plain": [
       "\u001b[1m Total params: \u001b[0m\u001b[38;5;34m985,482\u001b[0m (3.76 MB)\n"
      ]
     },
     "metadata": {},
     "output_type": "display_data"
    },
    {
     "data": {
      "text/html": [
       "<pre style=\"white-space:pre;overflow-x:auto;line-height:normal;font-family:Menlo,'DejaVu Sans Mono',consolas,'Courier New',monospace\"><span style=\"font-weight: bold\"> Trainable params: </span><span style=\"color: #00af00; text-decoration-color: #00af00\">985,482</span> (3.76 MB)\n",
       "</pre>\n"
      ],
      "text/plain": [
       "\u001b[1m Trainable params: \u001b[0m\u001b[38;5;34m985,482\u001b[0m (3.76 MB)\n"
      ]
     },
     "metadata": {},
     "output_type": "display_data"
    },
    {
     "data": {
      "text/html": [
       "<pre style=\"white-space:pre;overflow-x:auto;line-height:normal;font-family:Menlo,'DejaVu Sans Mono',consolas,'Courier New',monospace\"><span style=\"font-weight: bold\"> Non-trainable params: </span><span style=\"color: #00af00; text-decoration-color: #00af00\">0</span> (0.00 B)\n",
       "</pre>\n"
      ],
      "text/plain": [
       "\u001b[1m Non-trainable params: \u001b[0m\u001b[38;5;34m0\u001b[0m (0.00 B)\n"
      ]
     },
     "metadata": {},
     "output_type": "display_data"
    }
   ],
   "source": [
    "# PARA VOCE FAZER: Criar modelo\n",
    "\n",
    "# Definir parâmetros\n",
    "### PARA VOCE FAZER ### (3 linhas)\n",
    "n1 = 256\n",
    "n2 = 128\n",
    "num_classes = 10\n",
    "### TERMINE AQUI ###\n",
    "\n",
    "# Criar modelo\n",
    "### PARA VOCE FAZER ### (1 linha)\n",
    "rna = create_residual_model(n1, n2, num_classes)\n",
    "### TERMINE AQUI ###\n",
    "\n",
    "# Resumo do modelo\n",
    "rna.summary()\n"
   ]
  },
  {
   "cell_type": "markdown",
   "metadata": {
    "id": "QVUIb8VkKiNv"
   },
   "source": [
    "**Saída esperada:**\n",
    "\n",
    "    Model: \"functional\"\n",
    "    ┏━━━━━━━━━━━━━━━━━━━━━━━━━━━┳━━━━━━━━━━━━━━━━━━━━━━━━┳━━━━━━━━━━━━━━━━┳━━━━━━━━━━━━━━━━━━━━━━━━┓\n",
    "    ┃ Layer (type)              ┃ Output Shape           ┃        Param # ┃ Connected to           ┃\n",
    "    ┡━━━━━━━━━━━━━━━━━━━━━━━━━━━╇━━━━━━━━━━━━━━━━━━━━━━━━╇━━━━━━━━━━━━━━━━╇━━━━━━━━━━━━━━━━━━━━━━━━┩\n",
    "    │ input_layer_1             │ (None, 32, 32, 3)      │              0 │ -                      │\n",
    "    │ (InputLayer)              │                        │                │                        │\n",
    "    ├───────────────────────────┼────────────────────────┼────────────────┼────────────────────────┤\n",
    "    │ flatten_1 (Flatten)       │ (None, 3072)           │              0 │ input_layer_1[0][0]    │\n",
    "    ├───────────────────────────┼────────────────────────┼────────────────┼────────────────────────┤\n",
    "    │ dense_12 (Dense)          │ (None, 256)            │        786,688 │ flatten_1[0][0]        │\n",
    "    ├───────────────────────────┼────────────────────────┼────────────────┼────────────────────────┤\n",
    "    │ dense_13 (Dense)          │ (None, 256)            │         65,792 │ dense_12[0][0]         │\n",
    "    ├───────────────────────────┼────────────────────────┼────────────────┼────────────────────────┤\n",
    "    │ dense_14 (Dense)          │ (None, 256)            │         65,792 │ dense_13[0][0]         │\n",
    "    ├───────────────────────────┼────────────────────────┼────────────────┼────────────────────────┤\n",
    "    │ add_6 (Add)               │ (None, 256)            │              0 │ dense_12[0][0],        │\n",
    "    │                           │                        │                │ dense_14[0][0]         │\n",
    "    ├───────────────────────────┼────────────────────────┼────────────────┼────────────────────────┤\n",
    "    │ activation_4 (Activation) │ (None, 256)            │              0 │ add_6[0][0]            │\n",
    "    ├───────────────────────────┼────────────────────────┼────────────────┼────────────────────────┤\n",
    "    │ dense_15 (Dense)          │ (None, 128)            │         32,896 │ activation_4[0][0]     │\n",
    "    ├───────────────────────────┼────────────────────────┼────────────────┼────────────────────────┤\n",
    "    │ dense_16 (Dense)          │ (None, 128)            │         16,512 │ dense_15[0][0]         │\n",
    "    ├───────────────────────────┼────────────────────────┼────────────────┼────────────────────────┤\n",
    "    │ dense_17 (Dense)          │ (None, 128)            │         16,512 │ dense_16[0][0]         │\n",
    "    ├───────────────────────────┼────────────────────────┼────────────────┼────────────────────────┤\n",
    "    │ add_7 (Add)               │ (None, 128)            │              0 │ dense_15[0][0],        │\n",
    "    │                           │                        │                │ dense_17[0][0]         │\n",
    "    ├───────────────────────────┼────────────────────────┼────────────────┼────────────────────────┤\n",
    "    │ activation_5 (Activation) │ (None, 128)            │              0 │ add_7[0][0]            │\n",
    "    ├───────────────────────────┼────────────────────────┼────────────────┼────────────────────────┤\n",
    "    │ dense_18 (Dense)          │ (None, 10)             │          1,290 │ activation_5[0][0]     │\n",
    "    └───────────────────────────┴────────────────────────┴────────────────┴────────────────────────┘\n",
    "    Total params: 985,482 (3.76 MB)\n",
    "    Trainable params: 985,482 (3.76 MB)\n",
    "    Non-trainable params: 0 (0.00 B)"
   ]
  },
  {
   "cell_type": "markdown",
   "metadata": {
    "id": "cksdK-IjLRsw"
   },
   "source": [
    "## 3. Compilação e treinamento do modelo"
   ]
  },
  {
   "cell_type": "markdown",
   "metadata": {
    "id": "pFUgrsGxLZ0R"
   },
   "source": [
    "### Exercício #4: Compilação do modelo\n",
    "\n",
    "Agora que o modelo foi criado, você precisa compilá-lo. Vamos usar a função de perda `categorical_crossentropy` para classificação multiclasse e o otimizador `Adam`."
   ]
  },
  {
   "cell_type": "code",
   "execution_count": null,
   "metadata": {
    "id": "kQK2KwspLSCz"
   },
   "outputs": [],
   "source": [
    "# PARA VOCE FAZER: Compilar o modelo\n",
    "\n",
    "### COMECE AQUI ### (1 comando)\n",
    "\n",
    "### TERMINE AQUI ###"
   ]
  },
  {
   "cell_type": "markdown",
   "metadata": {
    "id": "amJY0vu5MAx3"
   },
   "source": [
    "### Exercício #5: Treinar o modelo\n",
    "\n",
    "Para treinar o modelo use 100 épocas e um lote de 256 exemplos."
   ]
  },
  {
   "cell_type": "code",
   "execution_count": null,
   "metadata": {
    "id": "3qBrEeXoMdU2"
   },
   "outputs": [],
   "source": [
    "# PARA VOCE FAZER: Treinar o modelo\n",
    "\n",
    "### COMECE AQUI ### (1 comando)\n",
    "\n",
    "### TERMINE AQUI ###"
   ]
  },
  {
   "cell_type": "markdown",
   "metadata": {
    "id": "2OW6h-jVz6ZK"
   },
   "source": [
    "**Saída esperada:**\n",
    "\n",
    "    Epoch 1/100\n",
    "    196/196 ━━━━━━━━━━━━━━━━━━━━ 6s 15ms/step - accuracy: 0.2288 - loss: 2.1627 - val_accuracy: 0.3783 - val_loss: 1.7425\n",
    "    Epoch 2/100\n",
    "    196/196 ━━━━━━━━━━━━━━━━━━━━ 1s 4ms/step - accuracy: 0.3720 - loss: 1.7419 - val_accuracy: 0.4168 - val_loss: 1.6358\n",
    "    .\n",
    "    .\n",
    "    .\n",
    "    Epoch 99/100\n",
    "    196/196 ━━━━━━━━━━━━━━━━━━━━ 2s 6ms/step - accuracy: 0.9347 - loss: 0.1806 - val_accuracy: 0.4800 - val_loss: 4.0803\n",
    "    Epoch 100/100\n",
    "    196/196 ━━━━━━━━━━━━━━━━━━━━ 2s 4ms/step - accuracy: 0.9350 - loss: 0.1817 - val_accuracy: 0.4942 - val_loss: 4.1091"
   ]
  },
  {
   "cell_type": "markdown",
   "metadata": {
    "id": "qEasVs2LynIs"
   },
   "source": [
    "Execute a célula abaixo para vizualizar os gráficos do processo de treinamento."
   ]
  },
  {
   "cell_type": "code",
   "execution_count": null,
   "metadata": {
    "id": "VvHUg72Iytg0"
   },
   "outputs": [],
   "source": [
    "# Plotar a perda e acurácia durante o treinamento\n",
    "plt.figure(figsize=(12, 4))\n",
    "\n",
    "# Plotando a perda\n",
    "plt.subplot(1, 2, 1)\n",
    "plt.plot(history.history['loss'], label='Perda de Treinamento')\n",
    "plt.plot(history.history['val_loss'], label='Perda de Validação')\n",
    "plt.title('Perda durante o Treinamento')\n",
    "plt.xlabel('Épocas')\n",
    "plt.ylabel('Perda')\n",
    "plt.grid()\n",
    "plt.legend()\n",
    "\n",
    "# Plotando a acurácia\n",
    "plt.subplot(1, 2, 2)\n",
    "plt.plot(history.history['accuracy'], label='Acurácia de Treinamento')\n",
    "plt.plot(history.history['val_accuracy'], label='Acurácia de Validação')\n",
    "plt.title('Acurácia durante o Treinamento')\n",
    "plt.xlabel('Épocas')\n",
    "plt.ylabel('Acurácia')\n",
    "plt.grid()\n",
    "plt.legend()\n",
    "\n",
    "plt.tight_layout()\n",
    "plt.show()"
   ]
  },
  {
   "cell_type": "markdown",
   "metadata": {
    "id": "LbyPTuqnyi2O"
   },
   "source": [
    "### Exercício #6: Avaliar o modelo\n",
    "\n",
    "Use o método evaluate e calcule a função de custo e a métrica para os dados de treinamento e teste."
   ]
  },
  {
   "cell_type": "code",
   "execution_count": null,
   "metadata": {
    "id": "rjp8VgxTzQpt"
   },
   "outputs": [],
   "source": [
    "### PARA VOCE FAZER: Avaliar o modelo\n",
    "\n",
    "### COMECE AQUI ### (2 linhas)\n",
    "\n",
    "### TERMINE AQUI ###"
   ]
  },
  {
   "cell_type": "markdown",
   "metadata": {
    "id": "B3GXrwGkz1vK"
   },
   "source": [
    "**Saída esperada:**\n",
    "\n",
    "    1563/1563 ━━━━━━━━━━━━━━━━━━━━ 3s 2ms/step - accuracy: 0.9438 - loss: 0.1639\n",
    "    313/313 ━━━━━━━━━━━━━━━━━━━━ 1s 2ms/step - accuracy: 0.4957 - loss: 4.0715"
   ]
  },
  {
   "cell_type": "markdown",
   "metadata": {
    "id": "WkCOEON808CT"
   },
   "source": [
    "## 4. Ajuste do modelo\n",
    "\n",
    "Você agora tem um modelo básico de rede residual para classificação de imagens no conjunto CIFAR100. Por meio da adição de blocos residuais, o modelo pode ser mais profundo sem enfrentar problemas de degradação do desempenho.\n",
    "\n",
    "Com base nesse modelo, você pode fazer experimentos adicionais para melhorar a performance, como ajustar a arquitetura, adicionar camadas de normalização, ou utilizar técnicas de data augmentation."
   ]
  },
  {
   "cell_type": "markdown",
   "metadata": {
    "id": "HSYXaqHV0GOK"
   },
   "source": [
    "### Exercício #7: Ajustar o modelo para obter resultados melhores\n",
    "\n",
    "Nesse exercício você deve fazer ajustes no modelo para melhorar o seu desempenho. As possíveis modificações são: adicionar mais blocos residuais, mudar o número de unidades nos blocos e nas camadas densas, ou tentar diferentes técnicas de regularização (dropout, L2 regularization etc.)  Além disso, é possível testar diferentes algoritmos de otimização e taxas de aprendizado.\n",
    "\n",
    "Implemente as seguintes modificações no modelo:\n",
    "\n",
    "1. Aumentar número de blocos residuais e aumentar número de unidades nas camadas;\n",
    "2. Incluir camadas de dropout no modelo maior do item (1);\n",
    "3. Retirar as camadas de dropout e aplicar regularização L2 no modelo maior do item(1).\n",
    "\n",
    "Para cada modificação você deve apresentar o novo modelo, a compilação, o treinamento e a avaliação.\n",
    "\n",
    "A sua avaliação nesse exercício depende dos resultados de exatidão nos dados de teste.\n",
    "\n",
    "Analise os resultados do ajuste do modelo."
   ]
  }
 ],
 "metadata": {
  "accelerator": "GPU",
  "colab": {
   "gpuType": "T4",
   "provenance": []
  },
  "kernelspec": {
   "display_name": "Python 3",
   "name": "python3"
  },
  "language_info": {
   "codemirror_mode": {
    "name": "ipython",
    "version": 3
   },
   "file_extension": ".py",
   "mimetype": "text/x-python",
   "name": "python",
   "nbconvert_exporter": "python",
   "pygments_lexer": "ipython3",
   "version": "3.12.1"
  }
 },
 "nbformat": 4,
 "nbformat_minor": 0
}
